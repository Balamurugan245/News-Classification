{
 "cells": [
  {
   "cell_type": "markdown",
   "id": "7cdc3449",
   "metadata": {},
   "source": [
    "# Importing Datasets"
   ]
  },
  {
   "cell_type": "code",
   "execution_count": 3,
   "id": "d27a9c4b",
   "metadata": {},
   "outputs": [],
   "source": [
    "import pandas as pd\n",
    "df1=pd.read_csv(\"inshort_news_data-1.csv\")\n",
    "df2=pd.read_csv(\"inshort_news_data-2.csv\")\n",
    "df3=pd.read_csv(\"inshort_news_data-3.csv\")\n",
    "df4=pd.read_csv(\"inshort_news_data-4.csv\")\n",
    "df5=pd.read_csv(\"inshort_news_data-5.csv\")\n",
    "df6=pd.read_csv(\"inshort_news_data-6.csv\")\n",
    "df7=pd.read_csv(\"inshort_news_data-7.csv\")"
   ]
  },
  {
   "cell_type": "markdown",
   "id": "47b8a272",
   "metadata": {},
   "source": [
    "# Merging Datasets"
   ]
  },
  {
   "cell_type": "code",
   "execution_count": 4,
   "id": "bba09cb8",
   "metadata": {},
   "outputs": [],
   "source": [
    "df_merged = pd.merge(df1, df2, how='outer')\n",
    "df_merged = pd.merge(df_merged, df3, how='outer')\n",
    "df_merged = pd.merge(df_merged, df4, how='outer')\n",
    "df_merged = pd.merge(df_merged, df5, how='outer')\n",
    "df_merged = pd.merge(df_merged, df6, how='outer')\n",
    "df = pd.merge(df_merged, df7, how='outer')"
   ]
  },
  {
   "cell_type": "code",
   "execution_count": 5,
   "id": "f7be5532",
   "metadata": {},
   "outputs": [
    {
     "data": {
      "text/html": [
       "<div>\n",
       "<style scoped>\n",
       "    .dataframe tbody tr th:only-of-type {\n",
       "        vertical-align: middle;\n",
       "    }\n",
       "\n",
       "    .dataframe tbody tr th {\n",
       "        vertical-align: top;\n",
       "    }\n",
       "\n",
       "    .dataframe thead th {\n",
       "        text-align: right;\n",
       "    }\n",
       "</style>\n",
       "<table border=\"1\" class=\"dataframe\">\n",
       "  <thead>\n",
       "    <tr style=\"text-align: right;\">\n",
       "      <th></th>\n",
       "      <th>Unnamed: 0</th>\n",
       "      <th>news_headline</th>\n",
       "      <th>news_article</th>\n",
       "      <th>news_category</th>\n",
       "    </tr>\n",
       "  </thead>\n",
       "  <tbody>\n",
       "    <tr>\n",
       "      <th>0</th>\n",
       "      <td>0</td>\n",
       "      <td>50-year-old problem of biology solved by Artif...</td>\n",
       "      <td>DeepMind's AI system 'AlphaFold' has been reco...</td>\n",
       "      <td>technology</td>\n",
       "    </tr>\n",
       "    <tr>\n",
       "      <th>1</th>\n",
       "      <td>1</td>\n",
       "      <td>Microsoft Teams to stop working on Internet Ex...</td>\n",
       "      <td>Microsoft Teams will stop working on Internet ...</td>\n",
       "      <td>technology</td>\n",
       "    </tr>\n",
       "    <tr>\n",
       "      <th>2</th>\n",
       "      <td>2</td>\n",
       "      <td>Hope US won't erect barriers to cooperation: C...</td>\n",
       "      <td>China, in response to reports of US adding Chi...</td>\n",
       "      <td>technology</td>\n",
       "    </tr>\n",
       "    <tr>\n",
       "      <th>3</th>\n",
       "      <td>3</td>\n",
       "      <td>Global smartphone sales in Q3 falls 5.7% to 36...</td>\n",
       "      <td>The global smartphone sales in the third quart...</td>\n",
       "      <td>technology</td>\n",
       "    </tr>\n",
       "    <tr>\n",
       "      <th>4</th>\n",
       "      <td>4</td>\n",
       "      <td>EU hoping Biden will clarify US position on di...</td>\n",
       "      <td>The European Union (EU) is hoping that US Pres...</td>\n",
       "      <td>technology</td>\n",
       "    </tr>\n",
       "    <tr>\n",
       "      <th>...</th>\n",
       "      <td>...</td>\n",
       "      <td>...</td>\n",
       "      <td>...</td>\n",
       "      <td>...</td>\n",
       "    </tr>\n",
       "    <tr>\n",
       "      <th>11706</th>\n",
       "      <td>1737</td>\n",
       "      <td>2 IAF doctors to soon leave for Russia to trai...</td>\n",
       "      <td>Two Indian Air Force doctors who have speciali...</td>\n",
       "      <td>science</td>\n",
       "    </tr>\n",
       "    <tr>\n",
       "      <th>11707</th>\n",
       "      <td>1738</td>\n",
       "      <td>NASA finds FM signal coming from Jupiter's moo...</td>\n",
       "      <td>NASA's Juno space probe has discovered an FM s...</td>\n",
       "      <td>science</td>\n",
       "    </tr>\n",
       "    <tr>\n",
       "      <th>11708</th>\n",
       "      <td>1739</td>\n",
       "      <td>New state of matter 'liquid glass' discovered:...</td>\n",
       "      <td>University of Konstanz's researchers have unco...</td>\n",
       "      <td>science</td>\n",
       "    </tr>\n",
       "    <tr>\n",
       "      <th>11709</th>\n",
       "      <td>1740</td>\n",
       "      <td>Astrophysicist Shashikumar Madhusudan Chitre p...</td>\n",
       "      <td>Renowned astrophysicist Professor Shashikumar ...</td>\n",
       "      <td>science</td>\n",
       "    </tr>\n",
       "    <tr>\n",
       "      <th>11710</th>\n",
       "      <td>1741</td>\n",
       "      <td>Scientists discover 2 dwarf giraffes in Namibi...</td>\n",
       "      <td>Scientists have found two dwarf giraffes in Na...</td>\n",
       "      <td>science</td>\n",
       "    </tr>\n",
       "  </tbody>\n",
       "</table>\n",
       "<p>11711 rows × 4 columns</p>\n",
       "</div>"
      ],
      "text/plain": [
       "       Unnamed: 0                                      news_headline  \\\n",
       "0               0  50-year-old problem of biology solved by Artif...   \n",
       "1               1  Microsoft Teams to stop working on Internet Ex...   \n",
       "2               2  Hope US won't erect barriers to cooperation: C...   \n",
       "3               3  Global smartphone sales in Q3 falls 5.7% to 36...   \n",
       "4               4  EU hoping Biden will clarify US position on di...   \n",
       "...           ...                                                ...   \n",
       "11706        1737  2 IAF doctors to soon leave for Russia to trai...   \n",
       "11707        1738  NASA finds FM signal coming from Jupiter's moo...   \n",
       "11708        1739  New state of matter 'liquid glass' discovered:...   \n",
       "11709        1740  Astrophysicist Shashikumar Madhusudan Chitre p...   \n",
       "11710        1741  Scientists discover 2 dwarf giraffes in Namibi...   \n",
       "\n",
       "                                            news_article news_category  \n",
       "0      DeepMind's AI system 'AlphaFold' has been reco...    technology  \n",
       "1      Microsoft Teams will stop working on Internet ...    technology  \n",
       "2      China, in response to reports of US adding Chi...    technology  \n",
       "3      The global smartphone sales in the third quart...    technology  \n",
       "4      The European Union (EU) is hoping that US Pres...    technology  \n",
       "...                                                  ...           ...  \n",
       "11706  Two Indian Air Force doctors who have speciali...       science  \n",
       "11707  NASA's Juno space probe has discovered an FM s...       science  \n",
       "11708  University of Konstanz's researchers have unco...       science  \n",
       "11709  Renowned astrophysicist Professor Shashikumar ...       science  \n",
       "11710  Scientists have found two dwarf giraffes in Na...       science  \n",
       "\n",
       "[11711 rows x 4 columns]"
      ]
     },
     "execution_count": 5,
     "metadata": {},
     "output_type": "execute_result"
    }
   ],
   "source": [
    "df"
   ]
  },
  {
   "cell_type": "code",
   "execution_count": 6,
   "id": "672bae14",
   "metadata": {},
   "outputs": [
    {
     "data": {
      "text/plain": [
       "'The members of the Joint Parliamentary Committee are divided over key issues in the Personal Data Protection Bill, 2019, such as the provision allowing government access to sensitive data of citizens without their consent and data localisation, ET reported. The panel, chaired by BJP MP Meenakashi Lekhi, has held consultations with stakeholders like Facebook, Twitter, Google, Ola, Uber and Paytm.'"
      ]
     },
     "execution_count": 6,
     "metadata": {},
     "output_type": "execute_result"
    }
   ],
   "source": [
    "df[\"news_article\"][5]"
   ]
  },
  {
   "cell_type": "code",
   "execution_count": 7,
   "id": "687e40d8",
   "metadata": {},
   "outputs": [
    {
     "data": {
      "text/plain": [
       "'technology'"
      ]
     },
     "execution_count": 7,
     "metadata": {},
     "output_type": "execute_result"
    }
   ],
   "source": [
    "df[\"news_category\"][5]"
   ]
  },
  {
   "cell_type": "markdown",
   "id": "28f639f7",
   "metadata": {},
   "source": [
    "# Feature Enginnering"
   ]
  },
  {
   "cell_type": "code",
   "execution_count": 43,
   "id": "5633befb",
   "metadata": {},
   "outputs": [
    {
     "data": {
      "text/plain": [
       "Unnamed: 0       0\n",
       "news_headline    0\n",
       "news_article     0\n",
       "news_category    0\n",
       "dtype: int64"
      ]
     },
     "execution_count": 43,
     "metadata": {},
     "output_type": "execute_result"
    }
   ],
   "source": [
    "df.isnull().sum()"
   ]
  },
  {
   "cell_type": "code",
   "execution_count": 44,
   "id": "ff01bc83",
   "metadata": {},
   "outputs": [],
   "source": [
    "df = df[[\"news_article\",\"news_category\"]]"
   ]
  },
  {
   "cell_type": "code",
   "execution_count": 45,
   "id": "08e07ca2",
   "metadata": {},
   "outputs": [
    {
     "data": {
      "text/html": [
       "<div>\n",
       "<style scoped>\n",
       "    .dataframe tbody tr th:only-of-type {\n",
       "        vertical-align: middle;\n",
       "    }\n",
       "\n",
       "    .dataframe tbody tr th {\n",
       "        vertical-align: top;\n",
       "    }\n",
       "\n",
       "    .dataframe thead th {\n",
       "        text-align: right;\n",
       "    }\n",
       "</style>\n",
       "<table border=\"1\" class=\"dataframe\">\n",
       "  <thead>\n",
       "    <tr style=\"text-align: right;\">\n",
       "      <th></th>\n",
       "      <th>news_article</th>\n",
       "      <th>news_category</th>\n",
       "    </tr>\n",
       "  </thead>\n",
       "  <tbody>\n",
       "    <tr>\n",
       "      <th>0</th>\n",
       "      <td>DeepMind's AI system 'AlphaFold' has been reco...</td>\n",
       "      <td>technology</td>\n",
       "    </tr>\n",
       "    <tr>\n",
       "      <th>1</th>\n",
       "      <td>Microsoft Teams will stop working on Internet ...</td>\n",
       "      <td>technology</td>\n",
       "    </tr>\n",
       "    <tr>\n",
       "      <th>2</th>\n",
       "      <td>China, in response to reports of US adding Chi...</td>\n",
       "      <td>technology</td>\n",
       "    </tr>\n",
       "    <tr>\n",
       "      <th>3</th>\n",
       "      <td>The global smartphone sales in the third quart...</td>\n",
       "      <td>technology</td>\n",
       "    </tr>\n",
       "    <tr>\n",
       "      <th>4</th>\n",
       "      <td>The European Union (EU) is hoping that US Pres...</td>\n",
       "      <td>technology</td>\n",
       "    </tr>\n",
       "    <tr>\n",
       "      <th>...</th>\n",
       "      <td>...</td>\n",
       "      <td>...</td>\n",
       "    </tr>\n",
       "    <tr>\n",
       "      <th>11706</th>\n",
       "      <td>Two Indian Air Force doctors who have speciali...</td>\n",
       "      <td>science</td>\n",
       "    </tr>\n",
       "    <tr>\n",
       "      <th>11707</th>\n",
       "      <td>NASA's Juno space probe has discovered an FM s...</td>\n",
       "      <td>science</td>\n",
       "    </tr>\n",
       "    <tr>\n",
       "      <th>11708</th>\n",
       "      <td>University of Konstanz's researchers have unco...</td>\n",
       "      <td>science</td>\n",
       "    </tr>\n",
       "    <tr>\n",
       "      <th>11709</th>\n",
       "      <td>Renowned astrophysicist Professor Shashikumar ...</td>\n",
       "      <td>science</td>\n",
       "    </tr>\n",
       "    <tr>\n",
       "      <th>11710</th>\n",
       "      <td>Scientists have found two dwarf giraffes in Na...</td>\n",
       "      <td>science</td>\n",
       "    </tr>\n",
       "  </tbody>\n",
       "</table>\n",
       "<p>11711 rows × 2 columns</p>\n",
       "</div>"
      ],
      "text/plain": [
       "                                            news_article news_category\n",
       "0      DeepMind's AI system 'AlphaFold' has been reco...    technology\n",
       "1      Microsoft Teams will stop working on Internet ...    technology\n",
       "2      China, in response to reports of US adding Chi...    technology\n",
       "3      The global smartphone sales in the third quart...    technology\n",
       "4      The European Union (EU) is hoping that US Pres...    technology\n",
       "...                                                  ...           ...\n",
       "11706  Two Indian Air Force doctors who have speciali...       science\n",
       "11707  NASA's Juno space probe has discovered an FM s...       science\n",
       "11708  University of Konstanz's researchers have unco...       science\n",
       "11709  Renowned astrophysicist Professor Shashikumar ...       science\n",
       "11710  Scientists have found two dwarf giraffes in Na...       science\n",
       "\n",
       "[11711 rows x 2 columns]"
      ]
     },
     "execution_count": 45,
     "metadata": {},
     "output_type": "execute_result"
    }
   ],
   "source": [
    "df"
   ]
  },
  {
   "cell_type": "code",
   "execution_count": 46,
   "id": "6093b4f1",
   "metadata": {},
   "outputs": [
    {
     "data": {
      "text/plain": [
       "world            2017\n",
       "entertainment    1986\n",
       "sports           1850\n",
       "technology       1741\n",
       "politics         1546\n",
       "science          1368\n",
       "automobile       1203\n",
       "Name: news_category, dtype: int64"
      ]
     },
     "execution_count": 46,
     "metadata": {},
     "output_type": "execute_result"
    }
   ],
   "source": [
    "df.news_category.value_counts()"
   ]
  },
  {
   "cell_type": "code",
   "execution_count": 47,
   "id": "fd3ff32d",
   "metadata": {},
   "outputs": [
    {
     "data": {
      "text/plain": [
       "world            2017\n",
       "entertainment    1986\n",
       "sports           1850\n",
       "technology       1741\n",
       "politics         1546\n",
       "science          1368\n",
       "Name: news_category, dtype: int64"
      ]
     },
     "execution_count": 47,
     "metadata": {},
     "output_type": "execute_result"
    }
   ],
   "source": [
    "df = df.drop(df[df['news_category'] == 'automobile'].index)\n",
    "df.news_category.value_counts()"
   ]
  },
  {
   "cell_type": "code",
   "execution_count": 48,
   "id": "59c4c0c9",
   "metadata": {},
   "outputs": [],
   "source": [
    "from sklearn.preprocessing import LabelEncoder\n",
    "label = LabelEncoder()\n",
    "df[\"news_category_n\"] = label.fit_transform(df[\"news_category\"])"
   ]
  },
  {
   "cell_type": "code",
   "execution_count": 49,
   "id": "cea82880",
   "metadata": {},
   "outputs": [],
   "source": [
    "df.drop([\"news_category\"], axis=\"columns\", inplace = True)"
   ]
  },
  {
   "cell_type": "code",
   "execution_count": 50,
   "id": "15a48833",
   "metadata": {},
   "outputs": [
    {
     "data": {
      "text/html": [
       "<div>\n",
       "<style scoped>\n",
       "    .dataframe tbody tr th:only-of-type {\n",
       "        vertical-align: middle;\n",
       "    }\n",
       "\n",
       "    .dataframe tbody tr th {\n",
       "        vertical-align: top;\n",
       "    }\n",
       "\n",
       "    .dataframe thead th {\n",
       "        text-align: right;\n",
       "    }\n",
       "</style>\n",
       "<table border=\"1\" class=\"dataframe\">\n",
       "  <thead>\n",
       "    <tr style=\"text-align: right;\">\n",
       "      <th></th>\n",
       "      <th>news_article</th>\n",
       "      <th>news_category_n</th>\n",
       "    </tr>\n",
       "  </thead>\n",
       "  <tbody>\n",
       "    <tr>\n",
       "      <th>0</th>\n",
       "      <td>DeepMind's AI system 'AlphaFold' has been reco...</td>\n",
       "      <td>4</td>\n",
       "    </tr>\n",
       "    <tr>\n",
       "      <th>1</th>\n",
       "      <td>Microsoft Teams will stop working on Internet ...</td>\n",
       "      <td>4</td>\n",
       "    </tr>\n",
       "    <tr>\n",
       "      <th>2</th>\n",
       "      <td>China, in response to reports of US adding Chi...</td>\n",
       "      <td>4</td>\n",
       "    </tr>\n",
       "    <tr>\n",
       "      <th>3</th>\n",
       "      <td>The global smartphone sales in the third quart...</td>\n",
       "      <td>4</td>\n",
       "    </tr>\n",
       "    <tr>\n",
       "      <th>4</th>\n",
       "      <td>The European Union (EU) is hoping that US Pres...</td>\n",
       "      <td>4</td>\n",
       "    </tr>\n",
       "    <tr>\n",
       "      <th>...</th>\n",
       "      <td>...</td>\n",
       "      <td>...</td>\n",
       "    </tr>\n",
       "    <tr>\n",
       "      <th>11706</th>\n",
       "      <td>Two Indian Air Force doctors who have speciali...</td>\n",
       "      <td>2</td>\n",
       "    </tr>\n",
       "    <tr>\n",
       "      <th>11707</th>\n",
       "      <td>NASA's Juno space probe has discovered an FM s...</td>\n",
       "      <td>2</td>\n",
       "    </tr>\n",
       "    <tr>\n",
       "      <th>11708</th>\n",
       "      <td>University of Konstanz's researchers have unco...</td>\n",
       "      <td>2</td>\n",
       "    </tr>\n",
       "    <tr>\n",
       "      <th>11709</th>\n",
       "      <td>Renowned astrophysicist Professor Shashikumar ...</td>\n",
       "      <td>2</td>\n",
       "    </tr>\n",
       "    <tr>\n",
       "      <th>11710</th>\n",
       "      <td>Scientists have found two dwarf giraffes in Na...</td>\n",
       "      <td>2</td>\n",
       "    </tr>\n",
       "  </tbody>\n",
       "</table>\n",
       "<p>10508 rows × 2 columns</p>\n",
       "</div>"
      ],
      "text/plain": [
       "                                            news_article  news_category_n\n",
       "0      DeepMind's AI system 'AlphaFold' has been reco...                4\n",
       "1      Microsoft Teams will stop working on Internet ...                4\n",
       "2      China, in response to reports of US adding Chi...                4\n",
       "3      The global smartphone sales in the third quart...                4\n",
       "4      The European Union (EU) is hoping that US Pres...                4\n",
       "...                                                  ...              ...\n",
       "11706  Two Indian Air Force doctors who have speciali...                2\n",
       "11707  NASA's Juno space probe has discovered an FM s...                2\n",
       "11708  University of Konstanz's researchers have unco...                2\n",
       "11709  Renowned astrophysicist Professor Shashikumar ...                2\n",
       "11710  Scientists have found two dwarf giraffes in Na...                2\n",
       "\n",
       "[10508 rows x 2 columns]"
      ]
     },
     "execution_count": 50,
     "metadata": {},
     "output_type": "execute_result"
    }
   ],
   "source": [
    "df"
   ]
  },
  {
   "cell_type": "code",
   "execution_count": 62,
   "id": "56e1786f",
   "metadata": {},
   "outputs": [
    {
     "data": {
      "text/plain": [
       "5    2017\n",
       "0    1986\n",
       "3    1850\n",
       "4    1741\n",
       "1    1546\n",
       "2    1368\n",
       "Name: news_category_n, dtype: int64"
      ]
     },
     "execution_count": 62,
     "metadata": {},
     "output_type": "execute_result"
    }
   ],
   "source": [
    "df.news_category_n.value_counts()"
   ]
  },
  {
   "cell_type": "markdown",
   "id": "09b37e2c",
   "metadata": {},
   "source": [
    "# Stop Words and Lemmatization"
   ]
  },
  {
   "cell_type": "code",
   "execution_count": 51,
   "id": "98636286",
   "metadata": {},
   "outputs": [],
   "source": [
    "import spacy\n",
    "from spacy.lang.en.stop_words import STOP_WORDS\n",
    "nlp = spacy.load(\"en_core_web_sm\")\n",
    "def preprocess(text):\n",
    "    doc = nlp(text)\n",
    "    \n",
    "    no_stop_word = []\n",
    "    for token in doc:\n",
    "        if not token.is_stop and not token.is_punct:\n",
    "            no_stop_word.append(token.lemma_)\n",
    "    return \" \".join(no_stop_word)\n",
    "    \n",
    "df[\"No_stop_word\"] = df[\"news_article\"].apply(preprocess)"
   ]
  },
  {
   "cell_type": "code",
   "execution_count": 52,
   "id": "1afbf876",
   "metadata": {},
   "outputs": [],
   "source": [
    "df[\"news_article\"][0]\n",
    "df.drop([\"news_article\"],axis=\"columns\", inplace = True)"
   ]
  },
  {
   "cell_type": "code",
   "execution_count": 53,
   "id": "48bcdc9c",
   "metadata": {},
   "outputs": [
    {
     "data": {
      "text/plain": [
       "'DeepMind AI system AlphaFold recognise solution protein folding grand challenge biology 50 year DeepMind show predict protein fold 3d shape complex process fundamental understand biological machinery life AlphaFold predict shape protein width atom'"
      ]
     },
     "execution_count": 53,
     "metadata": {},
     "output_type": "execute_result"
    }
   ],
   "source": [
    "df[\"No_stop_word\"][0]"
   ]
  },
  {
   "cell_type": "code",
   "execution_count": 54,
   "id": "4b7435c7",
   "metadata": {},
   "outputs": [
    {
     "data": {
      "text/html": [
       "<div>\n",
       "<style scoped>\n",
       "    .dataframe tbody tr th:only-of-type {\n",
       "        vertical-align: middle;\n",
       "    }\n",
       "\n",
       "    .dataframe tbody tr th {\n",
       "        vertical-align: top;\n",
       "    }\n",
       "\n",
       "    .dataframe thead th {\n",
       "        text-align: right;\n",
       "    }\n",
       "</style>\n",
       "<table border=\"1\" class=\"dataframe\">\n",
       "  <thead>\n",
       "    <tr style=\"text-align: right;\">\n",
       "      <th></th>\n",
       "      <th>news_category_n</th>\n",
       "      <th>No_stop_word</th>\n",
       "    </tr>\n",
       "  </thead>\n",
       "  <tbody>\n",
       "    <tr>\n",
       "      <th>0</th>\n",
       "      <td>4</td>\n",
       "      <td>DeepMind AI system AlphaFold recognise solutio...</td>\n",
       "    </tr>\n",
       "    <tr>\n",
       "      <th>1</th>\n",
       "      <td>4</td>\n",
       "      <td>Microsoft Teams stop work Internet Explorer 11...</td>\n",
       "    </tr>\n",
       "    <tr>\n",
       "      <th>2</th>\n",
       "      <td>4</td>\n",
       "      <td>China response report add chinese chipmaker SM...</td>\n",
       "    </tr>\n",
       "    <tr>\n",
       "      <th>3</th>\n",
       "      <td>4</td>\n",
       "      <td>global smartphone sale quarter 2020 fall 5.7 y...</td>\n",
       "    </tr>\n",
       "    <tr>\n",
       "      <th>4</th>\n",
       "      <td>4</td>\n",
       "      <td>European Union EU hope President elect Joe Bid...</td>\n",
       "    </tr>\n",
       "  </tbody>\n",
       "</table>\n",
       "</div>"
      ],
      "text/plain": [
       "   news_category_n                                       No_stop_word\n",
       "0                4  DeepMind AI system AlphaFold recognise solutio...\n",
       "1                4  Microsoft Teams stop work Internet Explorer 11...\n",
       "2                4  China response report add chinese chipmaker SM...\n",
       "3                4  global smartphone sale quarter 2020 fall 5.7 y...\n",
       "4                4  European Union EU hope President elect Joe Bid..."
      ]
     },
     "execution_count": 54,
     "metadata": {},
     "output_type": "execute_result"
    }
   ],
   "source": [
    "df.head()"
   ]
  },
  {
   "cell_type": "code",
   "execution_count": 55,
   "id": "4beb574b",
   "metadata": {},
   "outputs": [],
   "source": [
    "from sklearn.model_selection import train_test_split\n",
    "\n",
    "x_train, x_test , y_train , y_test = train_test_split(df.No_stop_word, df.news_category_n , test_size= 0.2 , stratify= df.news_category_n )"
   ]
  },
  {
   "cell_type": "markdown",
   "id": "8331a066",
   "metadata": {},
   "source": [
    "# Model Building"
   ]
  },
  {
   "cell_type": "code",
   "execution_count": 56,
   "id": "f1fbac7a",
   "metadata": {},
   "outputs": [],
   "source": [
    "from sklearn.naive_bayes import MultinomialNB\n",
    "from sklearn.metrics import classification_report\n",
    "from sklearn.pipeline import Pipeline\n",
    "from sklearn.feature_extraction.text import TfidfVectorizer"
   ]
  },
  {
   "cell_type": "code",
   "execution_count": 57,
   "id": "35222157",
   "metadata": {},
   "outputs": [
    {
     "name": "stdout",
     "output_type": "stream",
     "text": [
      "              precision    recall  f1-score   support\n",
      "\n",
      "           0       0.92      0.95      0.94       397\n",
      "           1       0.96      0.94      0.95       309\n",
      "           2       0.97      0.93      0.95       274\n",
      "           3       0.99      0.93      0.96       370\n",
      "           4       0.88      0.89      0.88       348\n",
      "           5       0.84      0.89      0.86       404\n",
      "\n",
      "    accuracy                           0.92      2102\n",
      "   macro avg       0.93      0.92      0.92      2102\n",
      "weighted avg       0.92      0.92      0.92      2102\n",
      "\n"
     ]
    }
   ],
   "source": [
    "clf = Pipeline([\n",
    "    (\"vectorizer_tfidf\", TfidfVectorizer()),\n",
    "    (\"nb\", MultinomialNB())\n",
    "])\n",
    "clf.fit(x_train, y_train)\n",
    "\n",
    "y_pred = clf.predict(x_test)\n",
    "   \n",
    "print(classification_report(y_test,y_pred))"
   ]
  },
  {
   "cell_type": "code",
   "execution_count": 58,
   "id": "1fd9e027",
   "metadata": {},
   "outputs": [
    {
     "data": {
      "text/plain": [
       "0.9200761179828735"
      ]
     },
     "execution_count": 58,
     "metadata": {},
     "output_type": "execute_result"
    }
   ],
   "source": [
    "clf.score(x_test,y_test)"
   ]
  },
  {
   "cell_type": "code",
   "execution_count": 60,
   "id": "eeb231bb",
   "metadata": {},
   "outputs": [
    {
     "data": {
      "text/plain": [
       "<Axes: >"
      ]
     },
     "execution_count": 60,
     "metadata": {},
     "output_type": "execute_result"
    },
    {
     "data": {
      "image/png": "[encoded data removed]",
      "text/plain": [
       "<Figure size 640x480 with 2 Axes>"
      ]
     },
     "metadata": {},
     "output_type": "display_data"
    }
   ],
   "source": [
    "y=clf.predict(x_test)\n",
    "import seaborn as sns\n",
    "%matplotlib inline\n",
    "from sklearn.metrics import confusion_matrix\n",
    "result=confusion_matrix(y,y_test)\n",
    "sns.heatmap(result,annot=True) # to display the predict of RandomForestRegressor for 0 and "
   ]
  },
  {
   "cell_type": "code",
   "execution_count": 61,
   "id": "714a032d",
   "metadata": {},
   "outputs": [],
   "source": [
    "import pickle\n",
    "with open(\"clf.pickle\",\"wb\") as f:\n",
    "    pickle.dump(clf,f)"
   ]
  }
 ],
 "metadata": {
  "kernelspec": {
   "display_name": "Python 3 (ipykernel)",
   "language": "python",
   "name": "python3"
  },
  "language_info": {
   "codemirror_mode": {
    "name": "ipython",
    "version": 3
   },
   "file_extension": ".py",
   "mimetype": "text/x-python",
   "name": "python",
   "nbconvert_exporter": "python",
   "pygments_lexer": "ipython3",
   "version": "3.11.3"
  }
 },
 "nbformat": 4,
 "nbformat_minor": 5
}
